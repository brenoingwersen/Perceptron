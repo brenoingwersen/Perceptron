{
 "cells": [
  {
   "cell_type": "markdown",
   "id": "6ddfc469-92f5-4e7c-b5d0-75ec92deb327",
   "metadata": {},
   "source": [
    "# Perceptron for classification"
   ]
  },
  {
   "cell_type": "markdown",
   "id": "4218179d-b18a-4c13-90b1-52823b85add6",
   "metadata": {},
   "source": [
    "## Import the necessary modules and packages"
   ]
  },
  {
   "cell_type": "code",
   "execution_count": 1,
   "id": "7792867d-3a27-4cf9-b07b-5a946ebb5d3a",
   "metadata": {},
   "outputs": [],
   "source": [
    "import os\n",
    "import numpy as np\n",
    "import pandas as pd\n",
    "import matplotlib.pyplot as plt\n",
    "from matplotlib.colors import ListedColormap"
   ]
  },
  {
   "cell_type": "markdown",
   "id": "bc4d0810-7aa4-4887-8383-bbcfa064caca",
   "metadata": {},
   "source": [
    "## The Perceptron"
   ]
  },
  {
   "cell_type": "code",
   "execution_count": 2,
   "id": "6aa88c04-eb91-4a1a-9295-839e40119979",
   "metadata": {},
   "outputs": [],
   "source": [
    "class Perceptron():\n",
    "    \"\"\"\n",
    "    Perceptron classifier using the unit step as activation function.\n",
    "    \n",
    "    Parameters\n",
    "    ------------\n",
    "    eta: float\n",
    "        Learning rate (between 0.0 and 1.0).\n",
    "    n_iter: int\n",
    "        Passes over the training dataset.\n",
    "    random_state: int\n",
    "        Random number generator seed for random weight initialization.\n",
    "        \n",
    "    Atributes\n",
    "    ------------\n",
    "    w_: 1d-array\n",
    "        Weights after fitting.\n",
    "    errors_: list\n",
    "        Number of misclassifications (updates) in each epoch.\n",
    "        \n",
    "    \"\"\"\n",
    "    def __init__(self, eta=0.01, n_iter=50, random_state=1):\n",
    "        self.eta = eta\n",
    "        self.n_iter = n_iter\n",
    "        self.random_state = random_state\n",
    "        \n",
    "    def fit(self, X, y):\n",
    "        \"\"\"\n",
    "        Fit training data.\n",
    "        \n",
    "        Parameters\n",
    "        ------------\n",
    "        X: {array-like}, shape = [n_examples, n_features]\n",
    "            Training vectors where n_examples is the number of examples and \n",
    "            n_features is the number of features.\n",
    "        y: array-like, shape = [n_examples]\n",
    "            Target values.\n",
    "            \n",
    "        Returns\n",
    "        ------------\n",
    "        self: object\n",
    "        \n",
    "        \"\"\"\n",
    "        np.random.seed(self.random_state)\n",
    "        self.w_ = np.random.normal(loc=0.0, scale=0.01,\n",
    "                                   size=X.shape[1])\n",
    "        self.b_ = np.random.normal(loc=0.0, scale=0.01,\n",
    "                                   size=1)\n",
    "        self.errors_ = []\n",
    "        \n",
    "        for _ in range(self.n_iter):\n",
    "            errors = 0\n",
    "            for xi, target in zip(X, y):\n",
    "                update = self.eta * (target - self.predict(xi))\n",
    "                self.w_ += update * xi\n",
    "                self.b_ += update\n",
    "                errors += int(update != 0.0)\n",
    "            self.errors_.append(errors)\n",
    "        return self\n",
    "    \n",
    "    def _feedforward(self, X):\n",
    "        \"\"\"\n",
    "        Pass the input array through the perceptron.\n",
    "        \n",
    "        \"\"\"\n",
    "        return np.dot(X, self.w_) + self.b_\n",
    "    \n",
    "    def predict(self, X):\n",
    "        \"\"\"\n",
    "        Returns the prediction, i.e. the class label after the unit step function.\n",
    "        \n",
    "        \"\"\"\n",
    "        return np.where(self._feedforward(X) >= 0.0, 1, -1)\n",
    "    \n",
    "    def score(self, X, y):\n",
    "        \"\"\"\n",
    "        Returns the accuracy of the perceptron.\n",
    "        \"\"\"\n",
    "        return (self.predict(X) == y).mean()"
   ]
  },
  {
   "cell_type": "markdown",
   "id": "05d3e4fa-65df-48e9-8d2e-939faea4761c",
   "metadata": {},
   "source": [
    "## Test the classifier"
   ]
  },
  {
   "cell_type": "markdown",
   "id": "17551911-74ec-49f0-964e-a44886ceadec",
   "metadata": {},
   "source": [
    "### Import the data"
   ]
  },
  {
   "cell_type": "code",
   "execution_count": 3,
   "id": "f9483697-a25c-47dc-b830-9f1f115afb27",
   "metadata": {},
   "outputs": [
    {
     "data": {
      "text/plain": [
       "'https://archive.ics.uci.edu\\\\ml\\\\machine-learning-databases\\\\iris\\\\iris.data'"
      ]
     },
     "execution_count": 3,
     "metadata": {},
     "output_type": "execute_result"
    }
   ],
   "source": [
    "url = os.path.join('https://archive.ics.uci.edu', 'ml', 'machine-learning-databases', 'iris', 'iris.data')\n",
    "url"
   ]
  },
  {
   "cell_type": "code",
   "execution_count": 4,
   "id": "b1815c18-fc15-496f-aa8e-f1b3559abc6d",
   "metadata": {},
   "outputs": [
    {
     "data": {
      "text/html": [
       "<div>\n",
       "<style scoped>\n",
       "    .dataframe tbody tr th:only-of-type {\n",
       "        vertical-align: middle;\n",
       "    }\n",
       "\n",
       "    .dataframe tbody tr th {\n",
       "        vertical-align: top;\n",
       "    }\n",
       "\n",
       "    .dataframe thead th {\n",
       "        text-align: right;\n",
       "    }\n",
       "</style>\n",
       "<table border=\"1\" class=\"dataframe\">\n",
       "  <thead>\n",
       "    <tr style=\"text-align: right;\">\n",
       "      <th></th>\n",
       "      <th>0</th>\n",
       "      <th>1</th>\n",
       "      <th>2</th>\n",
       "      <th>3</th>\n",
       "      <th>4</th>\n",
       "    </tr>\n",
       "  </thead>\n",
       "  <tbody>\n",
       "    <tr>\n",
       "      <th>145</th>\n",
       "      <td>6.7</td>\n",
       "      <td>3.0</td>\n",
       "      <td>5.2</td>\n",
       "      <td>2.3</td>\n",
       "      <td>Iris-virginica</td>\n",
       "    </tr>\n",
       "    <tr>\n",
       "      <th>146</th>\n",
       "      <td>6.3</td>\n",
       "      <td>2.5</td>\n",
       "      <td>5.0</td>\n",
       "      <td>1.9</td>\n",
       "      <td>Iris-virginica</td>\n",
       "    </tr>\n",
       "    <tr>\n",
       "      <th>147</th>\n",
       "      <td>6.5</td>\n",
       "      <td>3.0</td>\n",
       "      <td>5.2</td>\n",
       "      <td>2.0</td>\n",
       "      <td>Iris-virginica</td>\n",
       "    </tr>\n",
       "    <tr>\n",
       "      <th>148</th>\n",
       "      <td>6.2</td>\n",
       "      <td>3.4</td>\n",
       "      <td>5.4</td>\n",
       "      <td>2.3</td>\n",
       "      <td>Iris-virginica</td>\n",
       "    </tr>\n",
       "    <tr>\n",
       "      <th>149</th>\n",
       "      <td>5.9</td>\n",
       "      <td>3.0</td>\n",
       "      <td>5.1</td>\n",
       "      <td>1.8</td>\n",
       "      <td>Iris-virginica</td>\n",
       "    </tr>\n",
       "  </tbody>\n",
       "</table>\n",
       "</div>"
      ],
      "text/plain": [
       "       0    1    2    3               4\n",
       "145  6.7  3.0  5.2  2.3  Iris-virginica\n",
       "146  6.3  2.5  5.0  1.9  Iris-virginica\n",
       "147  6.5  3.0  5.2  2.0  Iris-virginica\n",
       "148  6.2  3.4  5.4  2.3  Iris-virginica\n",
       "149  5.9  3.0  5.1  1.8  Iris-virginica"
      ]
     },
     "execution_count": 4,
     "metadata": {},
     "output_type": "execute_result"
    }
   ],
   "source": [
    "df = pd.read_csv(url, header=None)\n",
    "df.tail()"
   ]
  },
  {
   "cell_type": "markdown",
   "id": "ff5a5a96-8338-4556-8564-d681a7ec4141",
   "metadata": {},
   "source": [
    "### Select the inputs and labels"
   ]
  },
  {
   "cell_type": "code",
   "execution_count": 5,
   "id": "8680927a-a45f-48d8-a699-5793580eb080",
   "metadata": {},
   "outputs": [],
   "source": [
    "# Select setosa and versicolor\n",
    "idx = df.loc[df[df.columns[-1]].isin(['Iris-setosa', 'Iris-versicolor'])].index\n",
    "\n",
    "# Extract sepal length and petal length\n",
    "X = df.loc[idx, [0, 2]].values\n",
    "y = df.loc[idx, df.columns[-1]].values\n",
    "\n",
    "# Convert the labels to numbers\n",
    "y = np.where(y == 'Iris-setosa', 1, -1)"
   ]
  },
  {
   "cell_type": "code",
   "execution_count": 6,
   "id": "073af4ae-14c5-42aa-ad14-9338212b2487",
   "metadata": {},
   "outputs": [
    {
     "data": {
      "image/png": "[encoded data removed]",
      "text/plain": [
       "<Figure size 720x432 with 1 Axes>"
      ]
     },
     "metadata": {
      "needs_background": "light"
     },
     "output_type": "display_data"
    }
   ],
   "source": [
    "fig, ax = plt.subplots(figsize=(10, 6))\n",
    "\n",
    "ax.scatter(X[y==1, 0], X[y==1, 1], color='red', marker='o', label='setosa')\n",
    "ax.scatter(X[y==-1, 0], X[y==-1, 1], color='blue', marker='x', label='versicolor')\n",
    "plt.xlabel('Sepal length (cm)')\n",
    "plt.ylabel('Petal length (cm)')\n",
    "plt.legend()\n",
    "plt.show()"
   ]
  },
  {
   "cell_type": "markdown",
   "id": "8cb5bdfc-b87b-433b-9299-0d23b6b4f205",
   "metadata": {},
   "source": [
    "## Train the perceptron"
   ]
  },
  {
   "cell_type": "code",
   "execution_count": 7,
   "id": "69ad5f4a-b0c9-4197-9ae2-7dd0917abeeb",
   "metadata": {},
   "outputs": [
    {
     "data": {
      "image/png": "[encoded data removed]",
      "text/plain": [
       "<Figure size 720x432 with 1 Axes>"
      ]
     },
     "metadata": {
      "needs_background": "light"
     },
     "output_type": "display_data"
    }
   ],
   "source": [
    "clf = Perceptron(eta=0.01, n_iter=10)\n",
    "clf.fit(X, y)\n",
    "\n",
    "fig, ax = plt.subplots(figsize=(10, 6))\n",
    "ax.plot(range(1, len(clf.errors_) + 1),\n",
    "        clf.errors_,\n",
    "        marker='o')\n",
    "plt.xlabel('Epochs')\n",
    "plt.ylabel('Number of updates')\n",
    "plt.show()"
   ]
  },
  {
   "cell_type": "markdown",
   "id": "3c715cab-79c9-4bc6-be25-a321b3f416ac",
   "metadata": {},
   "source": [
    "## Evaluate the model's decision boundaries"
   ]
  },
  {
   "cell_type": "code",
   "execution_count": 8,
   "id": "c7f1c4cc-59a4-48c9-ba2f-d39f323bc440",
   "metadata": {},
   "outputs": [
    {
     "data": {
      "image/png": "[encoded data removed]",
      "text/plain": [
       "<Figure size 720x432 with 1 Axes>"
      ]
     },
     "metadata": {
      "needs_background": "light"
     },
     "output_type": "display_data"
    }
   ],
   "source": [
    "fig, ax = plt.subplots(figsize=(10, 6))\n",
    "\n",
    "# Determine the plot's boundaries\n",
    "# where x1 represents the x axis i.e. sepal length\n",
    "# and x2 the y axis, i.e. petal length, of the final plot\n",
    "x1_min, x1_max = X[:, 0].min() - 1, X[:, 0].max() + 1\n",
    "x2_min, x2_max = X[:, 1].min() - 1, X[:, 1].max() + 1\n",
    "\n",
    "# Create a retangular grid of points inside the boundaries\n",
    "xx1, xx2 = np.meshgrid(np.arange(x1_min, x1_max, 0.02),\n",
    "                       np.arange(x2_min, x2_max, 0.02))\n",
    "\n",
    "# Predict the respective classes for the grid points\n",
    "# The perceptron needs an input with shape (n, 2) so there's a need to flatten the grid points\n",
    "Z = clf.predict(np.concatenate((xx1.ravel().reshape(-1, 1),\n",
    "                                xx2.ravel().reshape(-1, 1)),\n",
    "                               axis=1))\n",
    "Z = Z.reshape(xx1.shape)\n",
    "\n",
    "# Plot the gridpoints\n",
    "ax.contourf(xx1, xx2, Z, alpha=0.2, colors=['blue', 'red'])\n",
    "\n",
    "# Set the plot's limits to the xx1 and xx2\n",
    "ax.set_xlim(xx1.min(), xx1.max())\n",
    "ax.set_ylim(xx2.min(), xx2.max())\n",
    "\n",
    "# Plot the datapoints\n",
    "ax.scatter(X[y==1, 0], X[y==1, 1], color='red', marker='o', label='setosa')\n",
    "ax.scatter(X[y==-1, 0], X[y==-1, 1], color='blue', marker='x', label='versicolor')\n",
    "plt.xlabel('Sepal length (cm)')\n",
    "plt.ylabel('Petal length (cm)')\n",
    "plt.legend(loc='upper left')\n",
    "\n",
    "plt.show()"
   ]
  },
  {
   "cell_type": "code",
   "execution_count": null,
   "id": "b8760dcb-4ba5-4c35-b931-08e493539321",
   "metadata": {},
   "outputs": [],
   "source": []
  }
 ],
 "metadata": {
  "kernelspec": {
   "display_name": "Python 3 (ipykernel)",
   "language": "python",
   "name": "python3"
  },
  "language_info": {
   "codemirror_mode": {
    "name": "ipython",
    "version": 3
   },
   "file_extension": ".py",
   "mimetype": "text/x-python",
   "name": "python",
   "nbconvert_exporter": "python",
   "pygments_lexer": "ipython3",
   "version": "3.9.7"
  }
 },
 "nbformat": 4,
 "nbformat_minor": 5
}
